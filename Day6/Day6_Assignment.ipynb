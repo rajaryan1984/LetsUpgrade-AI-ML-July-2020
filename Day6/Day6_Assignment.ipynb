{
 "cells": [
  {
   "cell_type": "markdown",
   "metadata": {},
   "source": [
    "Q1. Assuming that we have some email addresses in the \"username@companyname.com\" format, please write program\n",
    "to print the company name of a given email address. Both user names and company names are composed of letters\n",
    "only.\n",
    "Input Format:\n",
    "The first line of the input contains an email address.\n",
    "Output Format:\n",
    "Print the company name in single line.\n",
    "Example;\n",
    "Input:\n",
    "john@google.com\n",
    "Output:\n",
    "google\n"
   ]
  },
  {
   "cell_type": "code",
   "execution_count": 2,
   "metadata": {},
   "outputs": [
    {
     "name": "stdout",
     "output_type": "stream",
     "text": [
      "Enter the string as your company email address::rajesh4.kumar@google.com\n",
      "company name in email address is::  google\n"
     ]
    }
   ],
   "source": [
    "# Take email address in input\n",
    "input_str=input('Enter the string as your company email address::')\n",
    "\n",
    "#find() method to search position of @\n",
    "position_for_address=input_str.find('@')\n",
    "\n",
    "\n",
    "# rfind() to search . from right side( just to avoid if we can have many . in email like raj.pu.123@yahoo.com)\n",
    "position_for_dot=input_str.rfind('.')\n",
    "\n",
    "#  Extract company name from string using list sclice\n",
    "slice_str=input_str[position_for_address + 1:position_for_dot]\n",
    "\n",
    "print(\"company name in email address is:: \", slice_str)"
   ]
  },
  {
   "cell_type": "markdown",
   "metadata": {},
   "source": [
    "Q2: Write a program that accepts a comma-separated sequence of words as input and prints the words in a comma separated sequence after sorting them alphabetically.\n",
    "Input Format:\n",
    "The first line of input contains words separated by the comma.\n",
    "Output Format:\n",
    "Print the sorted words separated by the comma.\n",
    "Example:\n",
    "Input:\n",
    "without,hello,bag,world\n",
    "Output:\n",
    "bag,hello,without,world"
   ]
  },
  {
   "cell_type": "code",
   "execution_count": 3,
   "metadata": {},
   "outputs": [
    {
     "name": "stdout",
     "output_type": "stream",
     "text": [
      "Enter comma seperated words of sequence::raj, mahesh, ganga, mohan\n",
      "Sorted words are:: ['raj, mahesh, ganga, mohan']\n"
     ]
    }
   ],
   "source": [
    "# taking input as sequence of comma seperated words \n",
    "input_string = input(\"Enter comma seperated words of sequence::\")\n",
    "\n",
    "# split() use to seperate the words with comma.\n",
    "list_string=input_string.split(\" ,\")\n",
    " \n",
    "# sort() function to sort the words alphabetically.\n",
    "list_string.sort() \n",
    "  \n",
    "print('Sorted words are::' , list_string) "
   ]
  },
  {
   "cell_type": "markdown",
   "metadata": {},
   "source": [
    "Q3: Create your own Jupyter Notebook for Sets.\n",
    "Reference link: https://www.w3schools.com/python/python_sets.asp"
   ]
  },
  {
   "cell_type": "code",
   "execution_count": null,
   "metadata": {},
   "outputs": [],
   "source": [
    "#Set is a collection of unordered and unindexed elements\n",
    "\n",
    "# Create a Set.  \n",
    "\n",
    "S={1,5,6,9, 0}\n",
    "print(S)\n",
    "\n",
    "# Set of strings\n",
    "\n",
    "mySet={'mango','orange','apple'}\n",
    "print(mySet)\n",
    "\n",
    "# add and remove elements\n",
    "mySet.add(\"banana\")\n",
    "print(mySet)\n",
    "\n",
    "mySet.remove(\"mango\")\n",
    "print(mySet)\n",
    "\n",
    "# lenght of set\n",
    "print(len(mySet))\n",
    "\n",
    "# iteration of elements in set\n",
    "\n",
    "for i in mySet:\n",
    "    print(i, end=' ')\n",
    "    \n",
    "# check if a particular element is present in Set\n",
    "\n",
    "\n",
    "    if('mango' in mySet):\n",
    "        \n",
    "        print(\"Element is present\")\n",
    "    else:\n",
    "        print(\"Eleemnt not present\")\n",
    "        \n",
    "# Update multiple items in Set\n",
    "mySet.update(['english','hindi','math','science'])\n",
    "print(mySet)\n",
    "\n",
    "# Remove any item in a set using remove() and discard()\n",
    "mySet.remove(\"hindi\")\n",
    "print(mySet)\n",
    "\n",
    "mySet.discard(\"orange\")\n",
    "print(mySet)\n",
    "\n",
    "# pop() remove the last element from the Set\n",
    "print(mySet.pop())\n",
    "\n",
    "# merging elements of two sets using union()\n",
    "\n",
    "set1={\"1\",\"4\",\"6\",\"8\"}\n",
    "set2={\"A\",\"B\",\"6\",\"8\"}\n",
    "unionSet=set1.union(set2)\n",
    "print(unionSet)\n",
    "\n",
    "# set intersection\n",
    "\n",
    "intersectionSet=set1.intersection(set2)\n",
    "print(intersectionSet)\n",
    "\n",
    "# clear() to empty the set\n",
    "\n",
    "S1={1, 4, 5, 6 ,9}\n",
    "S2=S1.clear()\n",
    "print(S2)\n",
    "\n",
    "# copy()  it returns a copy of set\n",
    "s3={1, 5, 9, 0}\n",
    "s4=s3.copy()\n",
    "print(s4)\n",
    "\n",
    "# issubset() returns true if a set is there in another set\n",
    "\n",
    "s0={1, 3, 4, 5,6}\n",
    "s10={1,3}\n",
    "s11={'A','B',1}\n",
    "print(s10.issubset(s0)) # returns true\n",
    "print(s11.issubset(s0))  # returns false\n",
    "\n",
    "# issuperset()\n",
    "\n",
    "print(s0.issuperset(s10)) # returns true\n",
    "print(s0.issuperset(s11)) # returns false \n",
    "\n",
    "\n",
    "\n",
    "\n",
    "\n",
    "\n"
   ]
  },
  {
   "cell_type": "markdown",
   "metadata": {},
   "source": [
    "Q4:Given a list of n-1 numbers ranging from 1 to n, your task is to find the missing number. There are no duplicates.\n",
    "Input Format:\n",
    "The first line contains n-1 numbers with each number separated by a space.\n",
    "Output Format:\n",
    "Print the missing number\n",
    "Example:\n",
    "Input:1 2 4 6 3 7 8\n",
    "Output:5\n",
    "Explanation:\n",
    "In the above list of numbers 5 is missing and hence 5 is the input"
   ]
  },
  {
   "cell_type": "code",
   "execution_count": 26,
   "metadata": {},
   "outputs": [
    {
     "name": "stdout",
     "output_type": "stream",
     "text": [
      "Enter the size of the list 5\n",
      "\n",
      "\n",
      "Enter the  list of numbers separated by space 12 13 25 16 19\n",
      "User List:  [12, 13, 25, 16, 19]\n",
      "Missing numbers in list :: [17, 18, 14, 15]\n"
     ]
    }
   ],
   "source": [
    "# Create function to find missign numbers in a list.\n",
    "\n",
    "def find_missing(test_list):\n",
    "    n = int(input(\"Enter the size of the list \"))\n",
    "    print(\"\\n\")\n",
    "    \n",
    "# taking input as space seperated\n",
    "\n",
    "    test_list = list(int(num) for num in input(\"Enter the  list of numbers separated by space \").strip().split())[:n]\n",
    "    print(\"User List: \", test_list)\n",
    "    \n",
    "# differnce of set gives the mising numbers. converting list to set and iterating from first to last element.\n",
    "\n",
    "    result=set(range(test_list[0],test_list[-1]))-set(test_list)\n",
    "    print(\"Missing numbers in list ::\" , list(result))\n",
    "    \n",
    "test_list=[]  \n",
    "find_missing(test_list)\n",
    "\n"
   ]
  },
  {
   "cell_type": "markdown",
   "metadata": {},
   "source": [
    "Q5:With a given list L, write a program to print this list L after removing all duplicate values with original order reserved.\n",
    "Example:\n",
    "If the input list is\n",
    "12 24 35 24 88 120 155 88 120 155\n",
    "Then the output should be\n",
    "12 24 35 88 120 155\n"
   ]
  },
  {
   "cell_type": "code",
   "execution_count": 24,
   "metadata": {},
   "outputs": [
    {
     "name": "stdout",
     "output_type": "stream",
     "text": [
      "Enter the  list of numbers separated by space 55 24 55 12 55 23 24 12 55\n"
     ]
    },
    {
     "data": {
      "text/plain": [
       "('Final list after removal of duplicates::', [55, 24, 12, 23])"
      ]
     },
     "execution_count": 24,
     "metadata": {},
     "output_type": "execute_result"
    }
   ],
   "source": [
    "# create function to remove duplicate elements from a list and reserve the order.( So cant use the appraoch of coverting list into set)\n",
    "\n",
    "def remove_duplicate(input_list):\n",
    "    \n",
    "    # to take input as space sperated...\n",
    "    input_list=list(int(num) for num in input(\"Enter the  list of numbers separated by space \").strip().split())\n",
    "    \n",
    "    # define empty result or output list\n",
    "    result_list=[]\n",
    "    for i in input_list:\n",
    "        if i not in result_list:\n",
    "            result_list.append(i)\n",
    "            \n",
    "            \n",
    "    return 'Final list after removal of duplicates::' ,result_list\n",
    "            \n",
    "        \n",
    "# define input_list\n",
    "input_list=[]\n",
    "remove_duplicate(input_list)\n",
    "    "
   ]
  },
  {
   "cell_type": "code",
   "execution_count": null,
   "metadata": {},
   "outputs": [],
   "source": [
    "# create function to remove duplicate elements from a list and reserve the order.( So cant use the appraoch of coverting list into set)\n",
    "\n",
    "def remove_duplicate(input_list):\n",
    "    \n",
    "    # to take input as space sperated...\n",
    "    input_list=list(int(num) for num in input(\"Enter the  list of numbers separated by space \").strip().split())\n",
    "    # define output list as empty\n",
    "    result_list=[]\n",
    "    # list comprehension usage\n",
    "    \n",
    "    [result_list.append(x) for x in input_list if x not in result_list]\n",
    "            \n",
    "    return 'Final list after removal of duplicates::' ,result_list\n",
    "            \n",
    "        \n",
    "# define input_list\n",
    "input_list=[]\n",
    "remove_duplicate(input_list)\n"
   ]
  },
  {
   "cell_type": "code",
   "execution_count": null,
   "metadata": {},
   "outputs": [],
   "source": []
  }
 ],
 "metadata": {
  "kernelspec": {
   "display_name": "Python 3",
   "language": "python",
   "name": "python3"
  },
  "language_info": {
   "codemirror_mode": {
    "name": "ipython",
    "version": 3
   },
   "file_extension": ".py",
   "mimetype": "text/x-python",
   "name": "python",
   "nbconvert_exporter": "python",
   "pygments_lexer": "ipython3",
   "version": "3.7.6"
  }
 },
 "nbformat": 4,
 "nbformat_minor": 4
}
