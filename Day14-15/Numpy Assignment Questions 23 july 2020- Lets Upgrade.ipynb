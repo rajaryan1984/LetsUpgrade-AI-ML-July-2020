{
 "cells": [
  {
   "cell_type": "markdown",
   "metadata": {},
   "source": [
    "# 1. Create a 3x3x3 array with random values "
   ]
  },
  {
   "cell_type": "code",
   "execution_count": 1,
   "metadata": {},
   "outputs": [
    {
     "name": "stdout",
     "output_type": "stream",
     "text": [
      "[[[0.35611576 0.28958589 0.78234458]\n",
      "  [0.69673536 0.35709993 0.93076391]\n",
      "  [0.54602866 0.18215665 0.05806634]]\n",
      "\n",
      " [[0.10948038 0.46629149 0.46097914]\n",
      "  [0.22258675 0.83982445 0.92198576]\n",
      "  [0.59918309 0.80057214 0.00705159]]\n",
      "\n",
      " [[0.17308178 0.70384401 0.95854568]\n",
      "  [0.9012884  0.85494016 0.69928457]\n",
      "  [0.97981509 0.55076468 0.39880523]]]\n"
     ]
    }
   ],
   "source": [
    "import numpy as np\n",
    "arr=np.random.random((3,3,3))\n",
    "# Using random function \n",
    "print(arr)\n",
    "\n"
   ]
  },
  {
   "cell_type": "markdown",
   "metadata": {},
   "source": [
    "# 2.Create a 5x5 matrix with values 1,2,3,4 just below the diagonal"
   ]
  },
  {
   "cell_type": "code",
   "execution_count": 2,
   "metadata": {},
   "outputs": [
    {
     "name": "stdout",
     "output_type": "stream",
     "text": [
      "[[0 0 0 0 0]\n",
      " [0 0 0 0 0]\n",
      " [0 0 0 0 0]\n",
      " [0 0 0 0 0]\n",
      " [0 0 0 0 0]]\n",
      "Printing required Matrix::::: \n",
      " [[0 0 0 0 0]\n",
      " [1 0 0 0 0]\n",
      " [0 2 0 0 0]\n",
      " [0 0 3 0 0]\n",
      " [0 0 0 4 0]]\n"
     ]
    }
   ],
   "source": [
    "# Create a 5x5 zero matrix using numpy zeros()\n",
    "arr=np.zeros((5,5), dtype=int)\n",
    "# print matrix\n",
    "print(arr)\n",
    "\n",
    "# using arnage()\n",
    "arr1=arr+np.arange(5)\n",
    "#print(arr1)\n",
    "#using diag() function to print required matrix:\n",
    "\n",
    "arr1=np.diag(1+np.arange(4), k=-1)\n",
    "print(\"Printing required Matrix:::::\" ,  '\\n' , arr1 )"
   ]
  },
  {
   "cell_type": "markdown",
   "metadata": {},
   "source": [
    "# 3.Create a 8x8 matrix and fill it with a checkerboard pattern"
   ]
  },
  {
   "cell_type": "code",
   "execution_count": 3,
   "metadata": {},
   "outputs": [
    {
     "name": "stdout",
     "output_type": "stream",
     "text": [
      "Original Matrix:: \n",
      " [[0 0 0 0 0 0 0 0]\n",
      " [0 0 0 0 0 0 0 0]\n",
      " [0 0 0 0 0 0 0 0]\n",
      " [0 0 0 0 0 0 0 0]\n",
      " [0 0 0 0 0 0 0 0]\n",
      " [0 0 0 0 0 0 0 0]\n",
      " [0 0 0 0 0 0 0 0]\n",
      " [0 0 0 0 0 0 0 0]]\n",
      "Printing matrix with checkerboard pattern:: \n",
      " [[0 1 0 1 0 1 0 1]\n",
      " [1 0 1 0 1 0 1 0]\n",
      " [0 1 0 1 0 1 0 1]\n",
      " [1 0 1 0 1 0 1 0]\n",
      " [0 1 0 1 0 1 0 1]\n",
      " [1 0 1 0 1 0 1 0]\n",
      " [0 1 0 1 0 1 0 1]\n",
      " [1 0 1 0 1 0 1 0]]\n"
     ]
    }
   ],
   "source": [
    "arr=np.zeros((8,8), dtype=int)\n",
    "print(\"Original Matrix::\", \"\\n\" ,arr)\n",
    "# using slice to make checkerboard pattern:\n",
    "\n",
    "#Slice from 1st index row till 1+2+2… and fill all columns with 1 starting from 0th to 0+2+2… and so on.\n",
    "arr[1::2, ::2]=1\n",
    "#Slice from 0th row till 0+2+2… and fill all columns with 1 starting from 1 to 1+2+2+…..and so on.\n",
    "arr[::2, 1::2]=1\n",
    "\n",
    "print(\"Printing matrix with checkerboard pattern::\" , \"\\n\", arr)"
   ]
  },
  {
   "cell_type": "markdown",
   "metadata": {},
   "source": [
    "# 4. Normalize a 5x5 random matrix"
   ]
  },
  {
   "cell_type": "code",
   "execution_count": 4,
   "metadata": {},
   "outputs": [
    {
     "name": "stdout",
     "output_type": "stream",
     "text": [
      "Original Array:\n",
      "[[0.81705429 0.6834464  0.78503866 0.71682633 0.67202077]\n",
      " [0.13323972 0.01294982 0.51512327 0.05929346 0.4245247 ]\n",
      " [0.66347951 0.53380422 0.69671236 0.55509818 0.41060445]\n",
      " [0.43133723 0.29268745 0.63903137 0.75162113 0.04600486]\n",
      " [0.99179809 0.35684116 0.21621821 0.74220807 0.38684138]]\n",
      "After normalization:\n",
      "[[0.8214802  0.6849852  0.78877275 0.71908643 0.67331268]\n",
      " [0.12288922 0.         0.51302481 0.04734507 0.42046852]\n",
      " [0.66458685 0.53210944 0.69853783 0.55386354 0.40624746]\n",
      " [0.42742826 0.28578242 0.63961042 0.75463311 0.03376932]\n",
      " [1.         0.35132242 0.20766078 0.74501665 0.38197091]]\n"
     ]
    }
   ],
   "source": [
    "import numpy as np\n",
    "arr= np.random.random((5,5))\n",
    "print(\"Original Array:\")\n",
    "print(arr)\n",
    "\n",
    "# Normarization of a matrix means scaling in some range like (0,1). So we find max and min value and create a ratio as below.\n",
    "arr_max= arr.max()\n",
    "arr_min = arr.min()\n",
    "arr = (arr - arr_min)/(arr_max - arr_min)\n",
    "print(\"After normalization:\")\n",
    "print(arr)"
   ]
  },
  {
   "cell_type": "markdown",
   "metadata": {},
   "source": [
    "# 5.  How to find common values between two arrays?"
   ]
  },
  {
   "cell_type": "code",
   "execution_count": 5,
   "metadata": {},
   "outputs": [
    {
     "name": "stdout",
     "output_type": "stream",
     "text": [
      "Array1:  [ 2  4  6  8 10]\n",
      "Array2:  [9 5 7 2 4 4 6]\n",
      "Common values between two arrays:\n",
      "[2 4 6]\n"
     ]
    }
   ],
   "source": [
    "\n",
    "array1 = np.array([2,4,6,8,10])\n",
    "print(\"Array1: \",array1)\n",
    "array2 = np.array([9,5,7,2,4,4,6])\n",
    "print(\"Array2: \",array2)\n",
    "\n",
    "\n",
    "# use intrersect1d() of numpy to find common values between two arrays\n",
    "print(\"Common values between two arrays:\")\n",
    "print(np.intersect1d(array1, array2))"
   ]
  },
  {
   "cell_type": "markdown",
   "metadata": {},
   "source": [
    "# 6.How to get the dates of yesterday, today and tomorrow?"
   ]
  },
  {
   "cell_type": "code",
   "execution_count": 6,
   "metadata": {},
   "outputs": [
    {
     "name": "stdout",
     "output_type": "stream",
     "text": [
      "Yestraday:  2020-07-26\n",
      "Today:  2020-07-27\n",
      "Tomorrow:  2020-07-28\n"
     ]
    }
   ],
   "source": [
    "import numpy as np\n",
    "\n",
    "# using dattime64 function along with timedelta64() of numpy.\n",
    "\n",
    "yesterday = np.datetime64('today', 'D') - np.timedelta64(1, 'D')\n",
    "print(\"Yestraday: \",yesterday)\n",
    "today     = np.datetime64('today', 'D')\n",
    "print(\"Today: \",today)\n",
    "tomorrow  = np.datetime64('today', 'D') + np.timedelta64(1, 'D')\n",
    "print(\"Tomorrow: \",tomorrow)"
   ]
  },
  {
   "cell_type": "code",
   "execution_count": 7,
   "metadata": {},
   "outputs": [
    {
     "name": "stdout",
     "output_type": "stream",
     "text": [
      "Yesterday :  2020-07-26\n",
      "Today :  2020-07-27\n",
      "Tomorrow :  2020-07-28\n"
     ]
    }
   ],
   "source": [
    "# find today's , yesterday's and tommorow's date without using numpy functions.\n",
    "\n",
    "import datetime \n",
    "\n",
    "#using datetime.date and datetime.timedelta\n",
    "\n",
    "today = datetime.date.today()\n",
    "yesterday = today - datetime.timedelta(days=1)\n",
    "tomorrow = today + datetime.timedelta(days=1) \n",
    "print('Yesterday : ',yesterday)\n",
    "print('Today : ',today)\n",
    "print('Tomorrow : ',tomorrow)"
   ]
  },
  {
   "cell_type": "markdown",
   "metadata": {},
   "source": [
    "# 7. Consider two random array A and B, check if they are equal"
   ]
  },
  {
   "cell_type": "code",
   "execution_count": 8,
   "metadata": {},
   "outputs": [
    {
     "name": "stdout",
     "output_type": "stream",
     "text": [
      "[[0.60195294 0.96100032]\n",
      " [0.76606411 0.60984863]]\n",
      "[[0.54439148 0.31386928]\n",
      " [0.38310871 0.25647567]]\n",
      "False\n"
     ]
    }
   ],
   "source": [
    "A = np.random.random((2,2))\n",
    "print(A)\n",
    "B = np.random.random((2,2))\n",
    "print(B)\n",
    "# to check random arrays are equal or not, we use numpy allclose(Array1, Array2) function.\n",
    "x = np.allclose(A,B)\n",
    "print(x)"
   ]
  },
  {
   "cell_type": "markdown",
   "metadata": {},
   "source": [
    "# 8.Create random vector of size 10 and replace the maximum value by 0 "
   ]
  },
  {
   "cell_type": "code",
   "execution_count": 9,
   "metadata": {},
   "outputs": [
    {
     "name": "stdout",
     "output_type": "stream",
     "text": [
      "Original Vector is:: \n",
      " \n",
      " [0.05867443 0.40358295 0.19543298 0.29053001 0.07857878 0.99876441\n",
      " 0.65944349 0.99515742 0.54021723 0.21725479]\n",
      "\n",
      "\n",
      "Array after replacing max value by 0 is::: \n",
      " \n",
      " [0.05867443 0.40358295 0.19543298 0.29053001 0.07857878 0.\n",
      " 0.65944349 0.99515742 0.54021723 0.21725479]\n"
     ]
    }
   ],
   "source": [
    "arr=np.random.random(10)\n",
    "print(\"Original Vector is::\" ,\"\\n\", \"\\n\", arr)\n",
    "\n",
    "#using argmax() to find the postion of max value in array. Replacing that with 0.\n",
    "arr[arr.argmax()]=0\n",
    "print(\"\\n\")\n",
    "\n",
    "print(\"Array after replacing max value by 0 is:::\", \"\\n\",\"\\n\", arr)"
   ]
  },
  {
   "cell_type": "markdown",
   "metadata": {},
   "source": [
    "# 9. How to print all the values of an array?"
   ]
  },
  {
   "cell_type": "code",
   "execution_count": 10,
   "metadata": {},
   "outputs": [
    {
     "name": "stdout",
     "output_type": "stream",
     "text": [
      "[   0    1    2 ...  998  999 1000]\n",
      "[   0    1    2    3    4    5    6    7    8    9   10   11   12   13\n",
      "   14   15   16   17   18   19   20   21   22   23   24   25   26   27\n",
      "   28   29   30   31   32   33   34   35   36   37   38   39   40   41\n",
      "   42   43   44   45   46   47   48   49   50   51   52   53   54   55\n",
      "   56   57   58   59   60   61   62   63   64   65   66   67   68   69\n",
      "   70   71   72   73   74   75   76   77   78   79   80   81   82   83\n",
      "   84   85   86   87   88   89   90   91   92   93   94   95   96   97\n",
      "   98   99  100  101  102  103  104  105  106  107  108  109  110  111\n",
      "  112  113  114  115  116  117  118  119  120  121  122  123  124  125\n",
      "  126  127  128  129  130  131  132  133  134  135  136  137  138  139\n",
      "  140  141  142  143  144  145  146  147  148  149  150  151  152  153\n",
      "  154  155  156  157  158  159  160  161  162  163  164  165  166  167\n",
      "  168  169  170  171  172  173  174  175  176  177  178  179  180  181\n",
      "  182  183  184  185  186  187  188  189  190  191  192  193  194  195\n",
      "  196  197  198  199  200  201  202  203  204  205  206  207  208  209\n",
      "  210  211  212  213  214  215  216  217  218  219  220  221  222  223\n",
      "  224  225  226  227  228  229  230  231  232  233  234  235  236  237\n",
      "  238  239  240  241  242  243  244  245  246  247  248  249  250  251\n",
      "  252  253  254  255  256  257  258  259  260  261  262  263  264  265\n",
      "  266  267  268  269  270  271  272  273  274  275  276  277  278  279\n",
      "  280  281  282  283  284  285  286  287  288  289  290  291  292  293\n",
      "  294  295  296  297  298  299  300  301  302  303  304  305  306  307\n",
      "  308  309  310  311  312  313  314  315  316  317  318  319  320  321\n",
      "  322  323  324  325  326  327  328  329  330  331  332  333  334  335\n",
      "  336  337  338  339  340  341  342  343  344  345  346  347  348  349\n",
      "  350  351  352  353  354  355  356  357  358  359  360  361  362  363\n",
      "  364  365  366  367  368  369  370  371  372  373  374  375  376  377\n",
      "  378  379  380  381  382  383  384  385  386  387  388  389  390  391\n",
      "  392  393  394  395  396  397  398  399  400  401  402  403  404  405\n",
      "  406  407  408  409  410  411  412  413  414  415  416  417  418  419\n",
      "  420  421  422  423  424  425  426  427  428  429  430  431  432  433\n",
      "  434  435  436  437  438  439  440  441  442  443  444  445  446  447\n",
      "  448  449  450  451  452  453  454  455  456  457  458  459  460  461\n",
      "  462  463  464  465  466  467  468  469  470  471  472  473  474  475\n",
      "  476  477  478  479  480  481  482  483  484  485  486  487  488  489\n",
      "  490  491  492  493  494  495  496  497  498  499  500  501  502  503\n",
      "  504  505  506  507  508  509  510  511  512  513  514  515  516  517\n",
      "  518  519  520  521  522  523  524  525  526  527  528  529  530  531\n",
      "  532  533  534  535  536  537  538  539  540  541  542  543  544  545\n",
      "  546  547  548  549  550  551  552  553  554  555  556  557  558  559\n",
      "  560  561  562  563  564  565  566  567  568  569  570  571  572  573\n",
      "  574  575  576  577  578  579  580  581  582  583  584  585  586  587\n",
      "  588  589  590  591  592  593  594  595  596  597  598  599  600  601\n",
      "  602  603  604  605  606  607  608  609  610  611  612  613  614  615\n",
      "  616  617  618  619  620  621  622  623  624  625  626  627  628  629\n",
      "  630  631  632  633  634  635  636  637  638  639  640  641  642  643\n",
      "  644  645  646  647  648  649  650  651  652  653  654  655  656  657\n",
      "  658  659  660  661  662  663  664  665  666  667  668  669  670  671\n",
      "  672  673  674  675  676  677  678  679  680  681  682  683  684  685\n",
      "  686  687  688  689  690  691  692  693  694  695  696  697  698  699\n",
      "  700  701  702  703  704  705  706  707  708  709  710  711  712  713\n",
      "  714  715  716  717  718  719  720  721  722  723  724  725  726  727\n",
      "  728  729  730  731  732  733  734  735  736  737  738  739  740  741\n",
      "  742  743  744  745  746  747  748  749  750  751  752  753  754  755\n",
      "  756  757  758  759  760  761  762  763  764  765  766  767  768  769\n",
      "  770  771  772  773  774  775  776  777  778  779  780  781  782  783\n",
      "  784  785  786  787  788  789  790  791  792  793  794  795  796  797\n",
      "  798  799  800  801  802  803  804  805  806  807  808  809  810  811\n",
      "  812  813  814  815  816  817  818  819  820  821  822  823  824  825\n",
      "  826  827  828  829  830  831  832  833  834  835  836  837  838  839\n",
      "  840  841  842  843  844  845  846  847  848  849  850  851  852  853\n",
      "  854  855  856  857  858  859  860  861  862  863  864  865  866  867\n",
      "  868  869  870  871  872  873  874  875  876  877  878  879  880  881\n",
      "  882  883  884  885  886  887  888  889  890  891  892  893  894  895\n",
      "  896  897  898  899  900  901  902  903  904  905  906  907  908  909\n",
      "  910  911  912  913  914  915  916  917  918  919  920  921  922  923\n",
      "  924  925  926  927  928  929  930  931  932  933  934  935  936  937\n",
      "  938  939  940  941  942  943  944  945  946  947  948  949  950  951\n",
      "  952  953  954  955  956  957  958  959  960  961  962  963  964  965\n",
      "  966  967  968  969  970  971  972  973  974  975  976  977  978  979\n",
      "  980  981  982  983  984  985  986  987  988  989  990  991  992  993\n",
      "  994  995  996  997  998  999 1000]\n"
     ]
    }
   ],
   "source": [
    "import numpy as np\n",
    "x=np.arange(1001)\n",
    "print(x)\n",
    "np.set_printoptions(threshold=np.inf)\n",
    "print(x)"
   ]
  },
  {
   "cell_type": "markdown",
   "metadata": {},
   "source": [
    "# 10.Subtract the mean of each row of a matrix"
   ]
  },
  {
   "cell_type": "code",
   "execution_count": 11,
   "metadata": {},
   "outputs": [
    {
     "name": "stdout",
     "output_type": "stream",
     "text": [
      "Original matrix:\n",
      "\n",
      "\n",
      "Subtract the mean of each row of the said matrix:\n",
      "\n",
      "[[ 0.1289467  -0.05834192 -0.07060478]\n",
      " [ 0.16563748 -0.22582727  0.06018979]\n",
      " [ 0.18260299 -0.01786073 -0.16474226]]\n"
     ]
    }
   ],
   "source": [
    "import numpy as np\n",
    "print(\"Original matrix:\\n\")\n",
    "x = np.random.random((3,3))\n",
    "print(\"\\nSubtract the mean of each row of the said matrix:\\n\")\n",
    "y = x - x.mean(axis=1, keepdims=True)  # using mean()\n",
    "print(y)"
   ]
  },
  {
   "cell_type": "markdown",
   "metadata": {},
   "source": [
    "# 11.Consider a given vector, how to add 1 to each element indexed by a second vector (be careful with repeated indices)? "
   ]
  },
  {
   "cell_type": "code",
   "execution_count": 12,
   "metadata": {},
   "outputs": [
    {
     "name": "stdout",
     "output_type": "stream",
     "text": [
      "Output Array: [4. 4. 3. 2. 4. 1. 3. 3. 3. 3.]\n"
     ]
    }
   ],
   "source": [
    "import numpy as np\n",
    "Z = np.ones(10)\n",
    "I = np.random.randint(0,len(Z),20)\n",
    "\n",
    "# using bincount()\n",
    "Z += np.bincount(I, minlength=len(Z))\n",
    "print( \"Output Array:\", Z)"
   ]
  },
  {
   "cell_type": "markdown",
   "metadata": {},
   "source": [
    "# 12.How to get the diagonal of a dot product?"
   ]
  },
  {
   "cell_type": "code",
   "execution_count": 13,
   "metadata": {},
   "outputs": [
    {
     "name": "stdout",
     "output_type": "stream",
     "text": [
      "[0 7 3 1 2 0 6 4 4 4]\n",
      "[2 3 1 8 9 7 1 3 8 2]\n",
      "====einsum====\n",
      "108\n",
      "[[ 0  0  0  0  0  0  0  0  0  0]\n",
      " [14 21  7 56 63 49  7 21 56 14]\n",
      " [ 6  9  3 24 27 21  3  9 24  6]\n",
      " [ 2  3  1  8  9  7  1  3  8  2]\n",
      " [ 4  6  2 16 18 14  2  6 16  4]\n",
      " [ 0  0  0  0  0  0  0  0  0  0]\n",
      " [12 18  6 48 54 42  6 18 48 12]\n",
      " [ 8 12  4 32 36 28  4 12 32  8]\n",
      " [ 8 12  4 32 36 28  4 12 32  8]\n",
      " [ 8 12  4 32 36 28  4 12 32  8]]\n"
     ]
    }
   ],
   "source": [
    "import numpy as np\n",
    "\n",
    "A = np.random.randint(0,10,10)\n",
    "B = np.random.randint(0,10,10)\n",
    "print(A)\n",
    "print(B)\n",
    "print(\"====einsum====\")\n",
    "np.einsum('i->', A)       # np.sum(A)\n",
    "np.einsum('i,i->i', A, B) # A * B\n",
    "X=np.einsum('i,i', A, B)    # np.inner(A, B)\n",
    "print(X)\n",
    "X=np.einsum('i,j->ij', A, B)    # np.outer(A, B)\n",
    "print(X)"
   ]
  },
  {
   "cell_type": "code",
   "execution_count": null,
   "metadata": {},
   "outputs": [],
   "source": [
    "# We can simply take two arrays to understand this.\n",
    "import numpy as np\n",
    "\n",
    "A=np.array([2,3,4])\n",
    "B=np.array([1,2,3])\n",
    "print(A)\n",
    "print(B)\n",
    "print(\"====einsum====\")  # using einsum() of numpy to calcualte scalar or doct product.\n",
    "np.einsum('i->', A)  \n",
    "print(np.einsum('i->', A))  # np.sum(A)\n",
    "print(np.einsum('i,i->i', A, B)) # A * B\n",
    "X=np.einsum('i,i', A, B)    # np.inner(A, B) ie dot product of two vectors.\n",
    "print(X)\n"
   ]
  },
  {
   "cell_type": "markdown",
   "metadata": {},
   "source": [
    "# 13.How to find the most frequent value in an array?"
   ]
  },
  {
   "cell_type": "code",
   "execution_count": 14,
   "metadata": {},
   "outputs": [
    {
     "name": "stdout",
     "output_type": "stream",
     "text": [
      "Original Array with 30 random elements::: \n",
      " [7 8 2 4 7 0 4 0 6 8 5 2 1 4 3 8 3 4 1 6 4 3 7 7 5 3 1 0 5 4]\n",
      "Most frequent value in array is::: 4\n"
     ]
    }
   ],
   "source": [
    "# create a random array of size 30\n",
    "arr=np.random.randint(0,10,30)\n",
    "print(\"Original Array with 30 random elements:::\", \"\\n\" ,arr)\n",
    "#Using bincount() with argmax function to find the mode/maxm occurance of an element\n",
    "arr=np.bincount(arr).argmax()\n",
    "print(\"Most frequent value in array is:::\", arr)"
   ]
  },
  {
   "cell_type": "markdown",
   "metadata": {},
   "source": [
    "# 14.How to get the n largest values of an array"
   ]
  },
  {
   "cell_type": "code",
   "execution_count": 17,
   "metadata": {},
   "outputs": [
    {
     "name": "stdout",
     "output_type": "stream",
     "text": [
      "Original array:\n",
      "[ 6 25 31  9 68 96 94 32 95 81 57  7  7 33  9 46 83 47  7 39]\n",
      "Enter the number of greatest values to be found in array\n",
      "5\n",
      "Array after partition at index -n is \n",
      " [ 7  6 31  9  7  9 33 32  7 25 39 47 46 57 68 81 83 94 95 96]\n",
      "Array with n largest values: \n",
      " [81 83 94 95 96]\n"
     ]
    }
   ],
   "source": [
    "import numpy as np\n",
    "\n",
    "x = np.random.randint(0,100,20)\n",
    "print(\"Original array:\")\n",
    "print(x)\n",
    "# using partition() function of numpy to find out n largest values.\n",
    "\n",
    "\n",
    "print(\"Enter the number of greatest values to be found in array\")\n",
    "n=int(input())   # taking input from user\n",
    "x=np.partition(x,-n)  # partition at index at the number user input\n",
    "print(\"Array after partition at index -n is\" ,\"\\n\", x)\n",
    "\n",
    "x=np.partition(x,-n)[-n:]  # finding n number of greatest values( in ascending order) as input by user.\n",
    "\n",
    "\n",
    "print(\"Array with n largest values:\" ,\"\\n\", x)\n"
   ]
  },
  {
   "cell_type": "markdown",
   "metadata": {},
   "source": [
    "# 15.How to create a record array from a regular array?"
   ]
  },
  {
   "cell_type": "code",
   "execution_count": null,
   "metadata": {},
   "outputs": [],
   "source": [
    "# Create a Record Array from a regular array. \n",
    "#Record Array construct an ndarray that allows field access using attributes.\n",
    "# Record arrays allow the fields to be accessed as members of the array, using arr.x and arr.y.\n",
    "\n",
    "# Creating an array with 2 fields a as float and b as int\n",
    "import numpy as np\n",
    "\n",
    "input_arr = np.array([(5.0, 2), (3.0, 4)], \n",
    "         dtype =[('a', float), ('b', int)]) \n",
    "print(\"Input array : \", input_arr)\n",
    "\n",
    "# convert it to a record array, using arr.view(np.recarray) \n",
    "record_arr = input_arr.view(np.recarray) \n",
    "print(\"Record array of float: \", record_arr.a) \n",
    "print(\"Record array of int: \", record_arr.b) \n",
    "  \n",
    "# applying recarray.all methods to float record array \n",
    "output_arr = np.recarray.all(record_arr.a) \n",
    "print (\"Output array: \", output_arr)  \n",
    "  \n",
    "# applying recarray.all methods to int record array \n",
    "output_arr = np.recarray.all(record_arr.b) \n",
    "\n"
   ]
  }
 ],
 "metadata": {
  "kernelspec": {
   "display_name": "Python 3",
   "language": "python",
   "name": "python3"
  },
  "language_info": {
   "codemirror_mode": {
    "name": "ipython",
    "version": 3
   },
   "file_extension": ".py",
   "mimetype": "text/x-python",
   "name": "python",
   "nbconvert_exporter": "python",
   "pygments_lexer": "ipython3",
   "version": "3.7.6"
  }
 },
 "nbformat": 4,
 "nbformat_minor": 2
}
