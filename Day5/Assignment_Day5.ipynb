{
 "cells": [
  {
   "cell_type": "markdown",
   "metadata": {},
   "source": [
    "Q1. Write a Python program to find the first 20 non-even prime natural numbers."
   ]
  },
  {
   "cell_type": "code",
   "execution_count": 1,
   "metadata": {},
   "outputs": [
    {
     "name": "stdout",
     "output_type": "stream",
     "text": [
      "First 20 non even prime numbers are:::\n",
      "\n",
      "\n",
      "3 5 7 11 13 17 19 23 29 31 37 41 43 47 53 59 61 67 71 73 "
     ]
    }
   ],
   "source": [
    "# Printing first 20 non even prime numbers.\n",
    "prime_count=0\n",
    "print(\"First 20 non even prime numbers are:::\")\n",
    "print(\"\\n\")\n",
    "for i in range(2,100):\n",
    "    prime=i\n",
    "    k=0\n",
    "    \n",
    "    if prime_count<=20:\n",
    "        for j in range(2,prime-1):\n",
    "            if(prime%j==0):\n",
    "                k=k+1\n",
    "        if(k==0):\n",
    "            if prime%2 !=0:     # 2 is only even prime number so removing it with this check.\n",
    "                 print(prime, end=' ')\n",
    "            prime_count=prime_count+1"
   ]
  },
  {
   "cell_type": "markdown",
   "metadata": {},
   "source": [
    "Q2. Write a Python program to implement 15 functions of string.\n"
   ]
  },
  {
   "cell_type": "code",
   "execution_count": 2,
   "metadata": {},
   "outputs": [
    {
     "name": "stdout",
     "output_type": "stream",
     "text": [
      "rajesh kumar\n",
      "RAJESH KUMAR\n",
      "['Rajesh', 'Kumar']\n",
      "'Ram' 'is' 'engineer' \n",
      "2\n",
      "9\n",
      "2\n",
      "Mahesh Kumar\n",
      "Hello india, hello bharat\n",
      "False\n",
      "True\n",
      "False\n",
      "False\n",
      "False\n",
      "('Of all fruits', 'Apple', 'is my favourate')\n",
      "rAJESH kUMAR\n"
     ]
    }
   ],
   "source": [
    "# program to demonstrate string functions:\n",
    "\n",
    "\n",
    "s = 'Rajesh Kumar'\n",
    "s1= \"'Ram' 'is' 'engineer' \"\n",
    "# lower() and upper converts all chars in lower and upper case respectively\n",
    "print(s.lower())\n",
    "print(s.upper())\n",
    "\n",
    "print(s.split())  # split each word seperately in a list\n",
    "print(''.join(s1)) # joins multiple words in a string.\n",
    "print(s.index('j')) # gives position or index of character in string starting with 0th position\n",
    "print(s.find('m'))   # searches the character and gives the position\n",
    "\n",
    "s2='hello India, hello Bharat'\n",
    "print(s2.count('hello'))    # count number of times a word occur in string\n",
    "\n",
    "print(s.replace(\"Rajesh\", \"Mahesh\"))  # replcae the word in string\n",
    "print(s2.capitalize())    #  converts first character in CAPS\n",
    "print(s.endswith('R'))    # return true if string ends with given value\n",
    "print(s.startswith('R'))  # return true if string starts with given value\n",
    "print(s.isalpha())        # return true if string contains all alphabetical value characters.\n",
    "\n",
    "s3='  Apple  '\n",
    "print(s3.isalpha())\n",
    "\n",
    "print(s3.isalnum())  # return true if string contains all alphanumeric characters value.\n",
    "\n",
    "x= s3.strip()\n",
    "print(('Of all fruits', x , 'is my favourate'))  # returns a trimmed version of string\n",
    "\n",
    "print(s.swapcase())          # swaps the upper and lower case."
   ]
  },
  {
   "cell_type": "markdown",
   "metadata": {},
   "source": [
    "Q3. Write a Python program to check if the given string is a Palindrome or Anagram or None of them.\n",
    "    Display the message accordingly to the user"
   ]
  },
  {
   "cell_type": "code",
   "execution_count": 1,
   "metadata": {},
   "outputs": [
    {
     "name": "stdout",
     "output_type": "stream",
     "text": [
      "Enter the string to check Palindrome::mala\n",
      "No, Given String is not Palindrome\n",
      "Enter 1st string to check anagram::mam\n",
      "Enter 2nd string to check anagram::mam\n",
      "The  strings are anagrams.\n"
     ]
    }
   ],
   "source": [
    "s=input(\"Enter the string to check Palindrome::\")\n",
    "def isPalindrome(s): \n",
    "    return s == s[::-1] # it reverse the string. Ex:  rajesh will be reversed as hsejar if given string s = rajesh\n",
    "  \n",
    "check_palindrome = isPalindrome(s) \n",
    "  \n",
    "if check_palindrome: \n",
    "    print(\"Yes, Given string is Palindrome\") \n",
    "else: \n",
    "    print(\"No, Given String is not Palindrome\") \n",
    "    \n",
    "\n",
    "def check_anagram(s1, s2): \n",
    "      \n",
    "    # the sorted strings are checked  \n",
    "    if(sorted(s1)== sorted(s2)): \n",
    "        print(\"The  strings are anagrams.\")  \n",
    "    else: \n",
    "        print(\"The strings aren't anagrams.\")          \n",
    "          \n",
    "   \n",
    "s1=input(\"Enter 1st string to check anagram::\")\n",
    "s2=input(\"Enter 2nd string to check anagram::\")\n",
    "check_anagram(s1, s2) \n",
    "\n"
   ]
  },
  {
   "cell_type": "code",
   "execution_count": null,
   "metadata": {},
   "outputs": [],
   "source": [
    "Q4. Write a Python's user defined function that removes all the additional characters from the string\n",
    "and converts it finally to lower case using built-in lower(). eg: If the string is \"Dr. Darshan Ingle\n",
    "@AI-ML Trainer\", then the output be \"drdarshaningleaimltrainer\""
   ]
  },
  {
   "cell_type": "code",
   "execution_count": 8,
   "metadata": {},
   "outputs": [
    {
     "name": "stdout",
     "output_type": "stream",
     "text": [
      "Enter String:::AAAAA  dddddd   888888  $$$$$  xxxxxxx   GGGGG\n",
      "aaaaadddddd888888$$$$$xxxxxxxggggg\n"
     ]
    }
   ],
   "source": [
    "# User defined fuction to remove additonal chars and spaces\n",
    "\n",
    "input_string=input(\"Enter String:::\")\n",
    "input_string=input_string.lower()   # using in built string.lower() function to convert all chars as lower.\n",
    "      \n",
    "# function defined for removal of additional spaces\n",
    "\n",
    "def spaceRemovalFunc(input_string):\n",
    "    char_list = list(\"  .!@#%&*()[]{}/?<>-_\")\n",
    "    output_string = \"\"\n",
    "    flag=0\n",
    "\n",
    "    for i in range(0, len(input_string)):\n",
    "        for t in char_list:\n",
    "            #print(t)\n",
    "                if input_string[i]==t:\n",
    "                    flag=1\n",
    "               \n",
    "                                \n",
    "        if(flag==0):\n",
    "            output_string=output_string+input_string[i]\n",
    "        else:\n",
    "            flag=0\n",
    "    \n",
    "                \n",
    "        \n",
    "        #printing output string\n",
    "    print (output_string)\n",
    "\n",
    "spaceRemovalFunc(input_string)"
   ]
  },
  {
   "cell_type": "code",
   "execution_count": null,
   "metadata": {},
   "outputs": [],
   "source": []
  },
  {
   "cell_type": "code",
   "execution_count": null,
   "metadata": {},
   "outputs": [],
   "source": []
  },
  {
   "cell_type": "code",
   "execution_count": null,
   "metadata": {},
   "outputs": [],
   "source": []
  }
 ],
 "metadata": {
  "kernelspec": {
   "display_name": "Python 3",
   "language": "python",
   "name": "python3"
  },
  "language_info": {
   "codemirror_mode": {
    "name": "ipython",
    "version": 3
   },
   "file_extension": ".py",
   "mimetype": "text/x-python",
   "name": "python",
   "nbconvert_exporter": "python",
   "pygments_lexer": "ipython3",
   "version": "3.7.6"
  }
 },
 "nbformat": 4,
 "nbformat_minor": 4
}
