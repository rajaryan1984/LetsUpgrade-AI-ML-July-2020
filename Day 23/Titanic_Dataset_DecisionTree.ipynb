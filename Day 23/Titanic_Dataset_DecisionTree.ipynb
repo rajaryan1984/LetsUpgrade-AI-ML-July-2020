{
 "cells": [
  {
   "cell_type": "markdown",
   "metadata": {},
   "source": [
    "# Build a decision tree model for classification and prediction on Titanic Dataset. Consider Age, Gender and Fare price as input features and Survived( Survival status) as Label or target variable."
   ]
  },
  {
   "cell_type": "code",
   "execution_count": 1,
   "metadata": {},
   "outputs": [],
   "source": [
    "#  Step1:  Classification through Decision tree model\n",
    "# import required packages and libraries\n",
    "\n",
    "import pandas as pd\n",
    "import numpy as np\n",
    "from sklearn import tree\n",
    "from sklearn import preprocessing"
   ]
  },
  {
   "cell_type": "code",
   "execution_count": 95,
   "metadata": {},
   "outputs": [
    {
     "data": {
      "text/html": [
       "<div>\n",
       "<style scoped>\n",
       "    .dataframe tbody tr th:only-of-type {\n",
       "        vertical-align: middle;\n",
       "    }\n",
       "\n",
       "    .dataframe tbody tr th {\n",
       "        vertical-align: top;\n",
       "    }\n",
       "\n",
       "    .dataframe thead th {\n",
       "        text-align: right;\n",
       "    }\n",
       "</style>\n",
       "<table border=\"1\" class=\"dataframe\">\n",
       "  <thead>\n",
       "    <tr style=\"text-align: right;\">\n",
       "      <th></th>\n",
       "      <th>PassengerId</th>\n",
       "      <th>Survived</th>\n",
       "      <th>Pclass</th>\n",
       "      <th>Name</th>\n",
       "      <th>Sex</th>\n",
       "      <th>Age</th>\n",
       "      <th>SibSp</th>\n",
       "      <th>Parch</th>\n",
       "      <th>Ticket</th>\n",
       "      <th>Fare</th>\n",
       "      <th>Cabin</th>\n",
       "      <th>Embarked</th>\n",
       "    </tr>\n",
       "  </thead>\n",
       "  <tbody>\n",
       "    <tr>\n",
       "      <th>0</th>\n",
       "      <td>1</td>\n",
       "      <td>0</td>\n",
       "      <td>3</td>\n",
       "      <td>Braund, Mr. Owen Harris</td>\n",
       "      <td>male</td>\n",
       "      <td>22.0</td>\n",
       "      <td>1</td>\n",
       "      <td>0</td>\n",
       "      <td>A/5 21171</td>\n",
       "      <td>7.2500</td>\n",
       "      <td>NaN</td>\n",
       "      <td>S</td>\n",
       "    </tr>\n",
       "    <tr>\n",
       "      <th>1</th>\n",
       "      <td>2</td>\n",
       "      <td>1</td>\n",
       "      <td>1</td>\n",
       "      <td>Cumings, Mrs. John Bradley (Florence Briggs Th...</td>\n",
       "      <td>female</td>\n",
       "      <td>38.0</td>\n",
       "      <td>1</td>\n",
       "      <td>0</td>\n",
       "      <td>PC 17599</td>\n",
       "      <td>71.2833</td>\n",
       "      <td>C85</td>\n",
       "      <td>C</td>\n",
       "    </tr>\n",
       "  </tbody>\n",
       "</table>\n",
       "</div>"
      ],
      "text/plain": [
       "   PassengerId  Survived  Pclass  \\\n",
       "0            1         0       3   \n",
       "1            2         1       1   \n",
       "\n",
       "                                                Name     Sex   Age  SibSp  \\\n",
       "0                            Braund, Mr. Owen Harris    male  22.0      1   \n",
       "1  Cumings, Mrs. John Bradley (Florence Briggs Th...  female  38.0      1   \n",
       "\n",
       "   Parch     Ticket     Fare Cabin Embarked  \n",
       "0      0  A/5 21171   7.2500   NaN        S  \n",
       "1      0   PC 17599  71.2833   C85        C  "
      ]
     },
     "execution_count": 95,
     "metadata": {},
     "output_type": "execute_result"
    }
   ],
   "source": [
    "# load the train data set\n",
    "titanic_train= pd.read_csv('C:/Users/rajes/Desktop/LetsUpgrade/AI-ML July20/Day 22-24/train.csv')\n",
    "titanic_train.head(2)\n",
    "\n"
   ]
  },
  {
   "cell_type": "code",
   "execution_count": 97,
   "metadata": {},
   "outputs": [],
   "source": [
    "# finding the mean from continuous feature \"Age\" and replace all the missing values with mean.\n",
    "titanic_train['Age'].mean()\n",
    "# create new variable for age\n",
    "new_age_var=np.where(titanic_train['Age'].isnull(),32,titanic_train['Age'])\n",
    "# reassign the age after replacing missing values of Age with Mean value into the new variable\n",
    "titanic_train['Age']=new_age_var\n",
    "#print(new_age_var)\n",
    "                     "
   ]
  },
  {
   "cell_type": "code",
   "execution_count": 98,
   "metadata": {},
   "outputs": [
    {
     "data": {
      "text/plain": [
       "DecisionTreeClassifier(ccp_alpha=0.0, class_weight=None, criterion='gini',\n",
       "                       max_depth=8, max_features=None, max_leaf_nodes=None,\n",
       "                       min_impurity_decrease=0.0, min_impurity_split=None,\n",
       "                       min_samples_leaf=1, min_samples_split=2,\n",
       "                       min_weight_fraction_leaf=0.0, presort='deprecated',\n",
       "                       random_state=None, splitter='best')"
      ]
     },
     "execution_count": 98,
     "metadata": {},
     "output_type": "execute_result"
    }
   ],
   "source": [
    "# Sex or Gender is Categorical so need to convert it to Numberic. We can use LabelEncoder function\n",
    "label_encoder=preprocessing.LabelEncoder()\n",
    "encoded_sex=label_encoder.fit_transform(titanic_train['Sex'])\n",
    "\n",
    "# initializing the decision tree model\n",
    "tree_model=tree.DecisionTreeClassifier(max_depth=8)\n",
    "\n",
    "# Building Tree model and fitting dep(y) and idv(x) to it.\n",
    "\n",
    "x=pd.DataFrame(encoded_sex)  # ind variable\n",
    "y=titanic_train['Survived']  # dep variable\n",
    "tree_model.fit(x,y)"
   ]
  },
  {
   "cell_type": "code",
   "execution_count": 62,
   "metadata": {},
   "outputs": [],
   "source": [
    "# Visualization of Tree Model\n",
    "with open(\"Dtree1.dot\",'w') as f:\n",
    "    f=tree.export_graphviz(tree_model,feature_names=['Sex'],out_file=f);"
   ]
  },
  {
   "cell_type": "code",
   "execution_count": null,
   "metadata": {},
   "outputs": [],
   "source": [
    "# Now taking Age,Pclass Sex and Fare all Four ind variables together to create  decision tree\n",
    "predictors=pd.DataFrame([encoded_sex, titanic_train['Pclass'],titanic_train['Age'],titanic_train['Fare']]).T\n",
    "\n",
    "tree_model.fit(X=predictors,y=titanic_train['Survived'])"
   ]
  },
  {
   "cell_type": "code",
   "execution_count": 69,
   "metadata": {},
   "outputs": [],
   "source": [
    "# Visualization of Tree Model\n",
    "with open(\"Dtree2.dot\",'w') as f:\n",
    "    f=tree.export_graphviz(tree_model,feature_names=['Sex','Pclass','Age','Fare'],out_file=f);"
   ]
  },
  {
   "cell_type": "code",
   "execution_count": 100,
   "metadata": {},
   "outputs": [
    {
     "data": {
      "text/plain": [
       "0.8965129358830146"
      ]
     },
     "execution_count": 100,
     "metadata": {},
     "output_type": "execute_result"
    }
   ],
   "source": [
    "# calulate Accuracy of Decision tree Model\n",
    "tree_model.score(X=predictors,y=titanic_train['Survived'])\n"
   ]
  },
  {
   "cell_type": "markdown",
   "metadata": {},
   "source": [
    "# We have completed Classification of Dataset using Decision Tree. "
   ]
  },
  {
   "cell_type": "markdown",
   "metadata": {},
   "source": [
    "# We will do Prediction of Survived Target label or variable using a Test Dataset."
   ]
  },
  {
   "cell_type": "code",
   "execution_count": 74,
   "metadata": {},
   "outputs": [
    {
     "data": {
      "text/html": [
       "<div>\n",
       "<style scoped>\n",
       "    .dataframe tbody tr th:only-of-type {\n",
       "        vertical-align: middle;\n",
       "    }\n",
       "\n",
       "    .dataframe tbody tr th {\n",
       "        vertical-align: top;\n",
       "    }\n",
       "\n",
       "    .dataframe thead th {\n",
       "        text-align: right;\n",
       "    }\n",
       "</style>\n",
       "<table border=\"1\" class=\"dataframe\">\n",
       "  <thead>\n",
       "    <tr style=\"text-align: right;\">\n",
       "      <th></th>\n",
       "      <th>PassengerId</th>\n",
       "      <th>Pclass</th>\n",
       "      <th>Name</th>\n",
       "      <th>Sex</th>\n",
       "      <th>Age</th>\n",
       "      <th>SibSp</th>\n",
       "      <th>Parch</th>\n",
       "      <th>Ticket</th>\n",
       "      <th>Fare</th>\n",
       "      <th>Embarked</th>\n",
       "    </tr>\n",
       "  </thead>\n",
       "  <tbody>\n",
       "    <tr>\n",
       "      <th>0</th>\n",
       "      <td>892</td>\n",
       "      <td>3</td>\n",
       "      <td>Kelly, Mr. James</td>\n",
       "      <td>male</td>\n",
       "      <td>34.5</td>\n",
       "      <td>0</td>\n",
       "      <td>0</td>\n",
       "      <td>330911</td>\n",
       "      <td>7.8292</td>\n",
       "      <td>Q</td>\n",
       "    </tr>\n",
       "    <tr>\n",
       "      <th>1</th>\n",
       "      <td>893</td>\n",
       "      <td>3</td>\n",
       "      <td>Wilkes, Mrs. James (Ellen Needs)</td>\n",
       "      <td>female</td>\n",
       "      <td>47.0</td>\n",
       "      <td>1</td>\n",
       "      <td>0</td>\n",
       "      <td>363272</td>\n",
       "      <td>7.0000</td>\n",
       "      <td>S</td>\n",
       "    </tr>\n",
       "  </tbody>\n",
       "</table>\n",
       "</div>"
      ],
      "text/plain": [
       "   PassengerId  Pclass                              Name     Sex   Age  SibSp  \\\n",
       "0          892       3                  Kelly, Mr. James    male  34.5      0   \n",
       "1          893       3  Wilkes, Mrs. James (Ellen Needs)  female  47.0      1   \n",
       "\n",
       "   Parch  Ticket    Fare Embarked  \n",
       "0      0  330911  7.8292        Q  \n",
       "1      0  363272  7.0000        S  "
      ]
     },
     "execution_count": 74,
     "metadata": {},
     "output_type": "execute_result"
    }
   ],
   "source": [
    "# Load Test data set( where Survived column will not be available)\n",
    "titanic_test= pd.read_csv('C:/Users/rajes/Desktop/LetsUpgrade/AI-ML July20/Day 22-24/test.csv')\n",
    "titanic_test.head(2)\n"
   ]
  },
  {
   "cell_type": "code",
   "execution_count": 101,
   "metadata": {},
   "outputs": [],
   "source": [
    "# finding the mean from continuous feature \"Age\" and replace all the missing values with mean.\n",
    "titanic_test['Age'].mean()\n",
    "# create new variable for age\n",
    "new_age_var=np.where(titanic_test['Age'].isnull(),33,titanic_test['Age'])\n",
    "# reassign the age after replacing missing values of Age with Mean value into the new variable\n",
    "titanic_test['Age']=new_age_var\n",
    "#print(new_age_var)"
   ]
  },
  {
   "cell_type": "code",
   "execution_count": 128,
   "metadata": {},
   "outputs": [],
   "source": [
    "# Sex or Gender is Categorical so need to convert it to Numberic. We can use LabelEncoder function\n",
    "label_encoder=preprocessing.LabelEncoder()\n",
    "encoded_sex_test=label_encoder.fit_transform(titanic_test['Sex'])\n",
    "\n",
    "test_features=pd.DataFrame([encoded_sex_test,titanic_test['Age'],titanic_test['Fare']]).T\n",
    "\n",
    "# initiazing the prediction variable based on training model we had created earlier\n",
    "test_preds=tree_model.predict(X=test_features)\n",
    "\n",
    "# initializing the output variable of prediction\n",
    "prediction_output=pd.DataFrame({'PassengerId':titanic_test['PassengerId'],'Survived':test_preds})\n",
    "\n",
    "# storing result into a csv file named Output.csv. This file will show the result for each PassengerId.(Survived=0 or 1)\n",
    "prediction_output.to_csv(\"Output1.csv\",index=False);\n",
    "\n"
   ]
  },
  {
   "cell_type": "markdown",
   "metadata": {},
   "source": [
    "# Random Forest Model classfication "
   ]
  },
  {
   "cell_type": "code",
   "execution_count": 103,
   "metadata": {},
   "outputs": [
    {
     "data": {
      "text/plain": [
       "Index(['PassengerId', 'Survived', 'Pclass', 'Name', 'Sex', 'Age', 'SibSp',\n",
       "       'Parch', 'Ticket', 'Fare', 'Cabin', 'Embarked'],\n",
       "      dtype='object')"
      ]
     },
     "execution_count": 103,
     "metadata": {},
     "output_type": "execute_result"
    }
   ],
   "source": [
    "# Using Random Forest Model to indentify the important Features( Ind variables)in data set.\n",
    "from sklearn.ensemble import RandomForestClassifier\n",
    "titanic_train.columns"
   ]
  },
  {
   "cell_type": "code",
   "execution_count": 106,
   "metadata": {},
   "outputs": [
    {
     "data": {
      "text/plain": [
       "RandomForestClassifier(bootstrap=True, ccp_alpha=0.0, class_weight=None,\n",
       "                       criterion='gini', max_depth=None, max_features=2,\n",
       "                       max_leaf_nodes=None, max_samples=None,\n",
       "                       min_impurity_decrease=0.0, min_impurity_split=None,\n",
       "                       min_samples_leaf=1, min_samples_split=2,\n",
       "                       min_weight_fraction_leaf=0.0, n_estimators=1000,\n",
       "                       n_jobs=None, oob_score=True, random_state=None,\n",
       "                       verbose=0, warm_start=False)"
      ]
     },
     "execution_count": 106,
     "metadata": {},
     "output_type": "execute_result"
    }
   ],
   "source": [
    "label_encoder=preprocessing.LabelEncoder()\n",
    "titanic_train['Sex']=label_encoder.fit_transform(titanic_train['Sex'])\n",
    "titanic_train['Embarked']=label_encoder.fit_transform(titanic_train['Embarked'])\n",
    "# Create Random Forest Model\n",
    "rf_model=RandomForestClassifier(n_estimators=1000,max_features=2,oob_score=True)\n",
    "\n",
    "# Features\n",
    "features=['Sex','Pclass','Age','Embarked','Fare','SibSp']\n",
    "\n",
    "# fitting these features to RF model\n",
    "rf_model.fit(X=titanic_train[features],y=titanic_train['Survived'])\n"
   ]
  },
  {
   "cell_type": "code",
   "execution_count": 107,
   "metadata": {},
   "outputs": [
    {
     "name": "stdout",
     "output_type": "stream",
     "text": [
      "OOB Score is::\n",
      "0.813273340832396\n"
     ]
    }
   ],
   "source": [
    "# printing oob_score to see the accuracy after we increased the ind variables in analysis\n",
    "print(\"OOB Score is::\")\n",
    "print(rf_model.oob_score_)\n",
    "\n",
    "#  Accuracy score is decresed from 88 pct to 81 pct now."
   ]
  },
  {
   "cell_type": "code",
   "execution_count": 108,
   "metadata": {},
   "outputs": [
    {
     "name": "stdout",
     "output_type": "stream",
     "text": [
      "Sex 0.26885868724318795\n",
      "Pclass 0.08774324010390407\n",
      "Age 0.2707907437376605\n",
      "Embarked 0.034239385183701676\n",
      "Fare 0.28581737877877894\n",
      "SibSp 0.052550564952766894\n"
     ]
    }
   ],
   "source": [
    "# Using RF Algorithm we will analyze the importance of each features now::\n",
    "# Iterate in each feature\n",
    "for feature, imp in zip(features,rf_model.feature_importances_):\n",
    "        print(feature,imp)"
   ]
  },
  {
   "cell_type": "markdown",
   "metadata": {},
   "source": [
    "# We see that Sex, Age and Fare features have values above 0.2 so they play important role in decision/result/prediction.Other fetatues are not much important."
   ]
  },
  {
   "cell_type": "markdown",
   "metadata": {},
   "source": [
    "# As part of the assignment, Will consider 3 IDVs as Age, Sex and Fare to find the accuracy of the Tree model."
   ]
  },
  {
   "cell_type": "code",
   "execution_count": 138,
   "metadata": {},
   "outputs": [
    {
     "data": {
      "text/plain": [
       "DecisionTreeClassifier(ccp_alpha=0.0, class_weight=None, criterion='gini',\n",
       "                       max_depth=8, max_features=None, max_leaf_nodes=None,\n",
       "                       min_impurity_decrease=0.0, min_impurity_split=None,\n",
       "                       min_samples_leaf=1, min_samples_split=2,\n",
       "                       min_weight_fraction_leaf=0.0, presort='deprecated',\n",
       "                       random_state=None, splitter='best')"
      ]
     },
     "execution_count": 138,
     "metadata": {},
     "output_type": "execute_result"
    }
   ],
   "source": [
    "# Consider Age, Sex and Fare as ind variables together to create  decision tree accuracy score\n",
    "titanic_train['Age'].mean()\n",
    "# create new variable for age\n",
    "new_age_var1=np.where(titanic_train['Age'].isnull(),32,titanic_train['Age'])\n",
    "# reassign the age after replacing missing values of Age with Mean value into the new variable\n",
    "titanic_train['Age']=new_age_var1\n",
    "titanic_train['Sex']=label_encoder.fit_transform(titanic_train['Sex'])\n",
    "predictors_new=pd.DataFrame([titanic_train['Sex'],titanic_train['Age'],titanic_train['Fare']]).T\n",
    "tree_model.fit(X=predictors_new,y=titanic_train['Survived'])"
   ]
  },
  {
   "cell_type": "code",
   "execution_count": 140,
   "metadata": {},
   "outputs": [
    {
     "data": {
      "text/plain": [
       "0.8706411698537683"
      ]
     },
     "execution_count": 140,
     "metadata": {},
     "output_type": "execute_result"
    }
   ],
   "source": [
    "\n",
    "# calulate Accuracy of Decision tree Model\n",
    "tree_model.score(X=predictors_new,y=titanic_train['Survived'])"
   ]
  },
  {
   "cell_type": "code",
   "execution_count": 111,
   "metadata": {},
   "outputs": [
    {
     "data": {
      "text/plain": [
       "RandomForestClassifier(bootstrap=True, ccp_alpha=0.0, class_weight=None,\n",
       "                       criterion='gini', max_depth=None, max_features=2,\n",
       "                       max_leaf_nodes=None, max_samples=None,\n",
       "                       min_impurity_decrease=0.0, min_impurity_split=None,\n",
       "                       min_samples_leaf=1, min_samples_split=2,\n",
       "                       min_weight_fraction_leaf=0.0, n_estimators=1000,\n",
       "                       n_jobs=None, oob_score=True, random_state=None,\n",
       "                       verbose=0, warm_start=False)"
      ]
     },
     "execution_count": 111,
     "metadata": {},
     "output_type": "execute_result"
    }
   ],
   "source": [
    "# Features\n",
    "features=['Sex','Age','Fare']\n",
    "\n",
    "# fitting these features to RF model\n",
    "rf_model.fit(X=titanic_train[features],y=titanic_train['Survived'])"
   ]
  },
  {
   "cell_type": "code",
   "execution_count": 112,
   "metadata": {},
   "outputs": [
    {
     "name": "stdout",
     "output_type": "stream",
     "text": [
      "0.7896512935883014\n"
     ]
    }
   ],
   "source": [
    "print(rf_model.oob_score_)"
   ]
  },
  {
   "cell_type": "code",
   "execution_count": null,
   "metadata": {},
   "outputs": [],
   "source": []
  }
 ],
 "metadata": {
  "kernelspec": {
   "display_name": "Python 3",
   "language": "python",
   "name": "python3"
  },
  "language_info": {
   "codemirror_mode": {
    "name": "ipython",
    "version": 3
   },
   "file_extension": ".py",
   "mimetype": "text/x-python",
   "name": "python",
   "nbconvert_exporter": "python",
   "pygments_lexer": "ipython3",
   "version": "3.7.6"
  }
 },
 "nbformat": 4,
 "nbformat_minor": 4
}
