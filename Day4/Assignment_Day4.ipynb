{
 "cells": [
  {
   "cell_type": "markdown",
   "metadata": {},
   "source": [
    "Q1.Research on whether addition, subtraction, multiplication, division, floor division and modulo\n",
    "operations be performed on complex numbers. Based on your study, implement a Python\n",
    "program to demonstrate these operations."
   ]
  },
  {
   "cell_type": "code",
   "execution_count": 18,
   "metadata": {},
   "outputs": [
    {
     "name": "stdout",
     "output_type": "stream",
     "text": [
      "Sum of complex numbers are: (5+7j)\n",
      "subtraction of complex numbers are: (-1-1j)\n",
      "Multiplication of complex numbers are: (-6+17j)\n",
      "Division of complex numbers are: (0.72+0.04j)\n"
     ]
    },
    {
     "ename": "TypeError",
     "evalue": "can't take floor of complex number.",
     "output_type": "error",
     "traceback": [
      "\u001b[1;31m---------------------------------------------------------------------------\u001b[0m",
      "\u001b[1;31mTypeError\u001b[0m                                 Traceback (most recent call last)",
      "\u001b[1;32m<ipython-input-18-1e003f06e8bf>\u001b[0m in \u001b[0;36m<module>\u001b[1;34m\u001b[0m\n\u001b[0;32m     28\u001b[0m \u001b[1;31m# Floor Division of 2 complex numbers\u001b[0m\u001b[1;33m\u001b[0m\u001b[1;33m\u001b[0m\u001b[1;33m\u001b[0m\u001b[0m\n\u001b[0;32m     29\u001b[0m \u001b[1;33m\u001b[0m\u001b[0m\n\u001b[1;32m---> 30\u001b[1;33m \u001b[0mfloor_div_complex_num\u001b[0m\u001b[1;33m=\u001b[0m\u001b[0mcomplex_num1\u001b[0m \u001b[1;33m//\u001b[0m \u001b[0mcomplex_num2\u001b[0m\u001b[1;33m\u001b[0m\u001b[1;33m\u001b[0m\u001b[0m\n\u001b[0m\u001b[0;32m     31\u001b[0m \u001b[0mprint\u001b[0m\u001b[1;33m(\u001b[0m\u001b[1;34m\" Floor Division of complex numbers are:\"\u001b[0m \u001b[1;33m,\u001b[0m \u001b[0mfloor_div_complex_num\u001b[0m\u001b[1;33m)\u001b[0m\u001b[1;33m\u001b[0m\u001b[1;33m\u001b[0m\u001b[0m\n\u001b[0;32m     32\u001b[0m \u001b[1;33m\u001b[0m\u001b[0m\n",
      "\u001b[1;31mTypeError\u001b[0m: can't take floor of complex number."
     ]
    }
   ],
   "source": [
    "# Operations performed on complex numbers(A complex number is in form of a+bj where a and b are real numbers and j is imaginary no):\n",
    "\n",
    "complex_num1=2+3j\n",
    "complex_num2=3+4j\n",
    "\n",
    "# Addition of 2 complex numbers\n",
    "\n",
    "sum_complex_number=complex_num1 + complex_num2\n",
    "print(\"Sum of complex numbers are:\" , sum_complex_number)\n",
    "\n",
    "# Subtraction of 2 complex numbers\n",
    "\n",
    "subtract_complex_number=complex_num1 - complex_num2\n",
    "print(\"subtraction of complex numbers are:\" , subtract_complex_number)\n",
    "\n",
    "\n",
    "# Multiplication of 2 complex numbers\n",
    "\n",
    "multiplication_complex_num=complex_num1 * complex_num2\n",
    "print(\"Multiplication of complex numbers are:\" , multiplication_complex_num)\n",
    "\n",
    "# Division of 2 complex numbers\n",
    "\n",
    "div_complex_num=complex_num1 / complex_num2\n",
    "print(\"Division of complex numbers are:\" , div_complex_num)\n",
    "\n",
    "\n",
    "# Floor Division of 2 complex numbers\n",
    "\n",
    "floor_div_complex_num=complex_num1 // complex_num2\n",
    "print(\" Floor Division of complex numbers are:\" , floor_div_complex_num)\n",
    "\n",
    "# Floor division is not supported for Complex numbers so we get error.\n",
    "\n",
    "# Modulo  of 2 complex numbers\n",
    "\n",
    "modulo_div_complex_num=complex_num1 % complex_num2\n",
    "print(\" Modulo Division of complex numbers are:\" , modulo_div_complex_num)\n",
    "\n",
    "# Floor division is not supported for Complex numbers.\n",
    "\n"
   ]
  },
  {
   "cell_type": "markdown",
   "metadata": {},
   "source": [
    "Q2. Research on range() functions and its parameters. Create a markdown cell and write in your own\n",
    "words (no copy-paste from google please) what you understand about it. Implement a small\n",
    "program of your choice on the same.\n"
   ]
  },
  {
   "cell_type": "markdown",
   "metadata": {},
   "source": [
    "**range()**\n",
    "\n",
    "***range()*** is used to specify a range( upper limit- lower limit) between integers. It is widely used with for loop in python.<br>\n",
    "\n",
    "Basic syntax: <br>\n",
    "\n",
    "range(start, stop, step) where start= starting point, stop= where range ends, step= the count that can be skipped of or the steps we can jump of and leave in the range. start and step are optional but end is mandatory.\n",
    "Example: range(0, n)\n",
    "\n",
    "range(0, n)) ->  0, 1, 2, 3, 4,........to n-1 <br>\n",
    "range(0, 5)) ->  0, 1, 2, 3, 4  <br>\n",
    "\n",
    "range(3) ->  0,1,2. BY default range function takes 0 as start if it is not mentioned. <br>\n",
    "\n",
    "range(1, 8, 2) -> prints 1,3,5,7 ( here step=2 so it is printing all the numbers by leaving one number(position) till 8-1 i.e 7 <br>\n",
    "\n",
    "step value should not be 0. it gives value error if we keep step=0  <br>\n",
    "\n",
    "range(-2, 4)-> -2, -1, 0, 1, 2, 3\n"
   ]
  },
  {
   "cell_type": "code",
   "execution_count": null,
   "metadata": {},
   "outputs": [],
   "source": [
    "# range() with default lower value\n",
    "\n",
    "x=range(5)\n",
    "for i in range(5):\n",
    "        print(i,end=' ')\n",
    "        \n",
    "        \n",
    "        \n",
    "        \n",
    "\n",
    "\n",
    "    \n",
    "\n",
    "\n"
   ]
  },
  {
   "cell_type": "code",
   "execution_count": null,
   "metadata": {},
   "outputs": [],
   "source": [
    "# range() with upper and lower value\n",
    "a=range(1,5)\n",
    "for j in a:\n",
    "    print(j, end=' ')\n",
    "        \n"
   ]
  },
  {
   "cell_type": "code",
   "execution_count": null,
   "metadata": {},
   "outputs": [],
   "source": [
    "# range() with upper, lower value and step value\n",
    "a=range(1,7,2)\n",
    "for j in a:\n",
    "    print(j, end=' ')\n"
   ]
  },
  {
   "cell_type": "code",
   "execution_count": null,
   "metadata": {},
   "outputs": [],
   "source": [
    "# range() with upper, lower value as negative integer and step value\n",
    "\n",
    "num=range(-2,8,2)\n",
    "for i in num:\n",
    "    print(i, end=' ')"
   ]
  },
  {
   "cell_type": "code",
   "execution_count": null,
   "metadata": {},
   "outputs": [],
   "source": [
    "# range() to print pattern of numbers\n",
    "\n",
    "for num in range(4):\n",
    "    for i in range(num+1):\n",
    "        print(num+1, end=\" \")\n",
    "    print()  # new line after each row to show pattern correctly"
   ]
  },
  {
   "cell_type": "code",
   "execution_count": null,
   "metadata": {},
   "outputs": [],
   "source": [
    "# print elements in list, tuple,set using range()\n",
    "li=list(range(4))\n",
    "print(li)\n",
    "\n",
    "tup=tuple(range(1,4))\n",
    "print(tup)\n",
    "\n",
    "set_num= set(range(5))\n",
    "print(set_num)"
   ]
  },
  {
   "cell_type": "code",
   "execution_count": null,
   "metadata": {},
   "outputs": [],
   "source": [
    "# range() cant have step integer as 0. it will trhow an error.\n",
    "\n",
    "num=range(1,5,0)\n",
    "for i in num:\n",
    "    print(i)"
   ]
  },
  {
   "cell_type": "markdown",
   "metadata": {},
   "source": [
    "Q3.  Consider two numbers. Perform their subtraction and if the result of subtraction is greater than 25, print their                multiplication result else print their division result."
   ]
  },
  {
   "cell_type": "code",
   "execution_count": null,
   "metadata": {},
   "outputs": [],
   "source": [
    "# taking 2 numbers as input from user to perform conditional statement.\n",
    "\n",
    "a=float(input(\"Enter the first number:\"))\n",
    "b=float(input(\"Enter the Second number:\"))\n",
    "\n",
    "# subtraction of two numbers a and b\n",
    "sub=a-b\n",
    "# checking condition\n",
    "if sub>25:\n",
    "    print(\"multiplication result of a and b:\" , a*b)\n",
    "else:\n",
    "    print('division result of a and b:', a/b)"
   ]
  },
  {
   "cell_type": "markdown",
   "metadata": {},
   "source": [
    "Q4. Consider a list of 10 elements of integer values. If the number in the list is divisible by 2, print the\n",
    "    result as \"square of that number minus 2\""
   ]
  },
  {
   "cell_type": "code",
   "execution_count": 17,
   "metadata": {},
   "outputs": [
    {
     "name": "stdout",
     "output_type": "stream",
     "text": [
      "Elements in the list are: [1, 2, 3, 4, 5, 6, 7, 8, 9, 10] \n",
      "\n",
      "2 14 34 62 98 "
     ]
    }
   ],
   "source": [
    "list_integers=list(range(1, 11))\n",
    "#print(list_integers)\n",
    "print('Elements in the list are:' , list_integers , end=' ')\n",
    "print(\"\\n\")\n",
    "\n",
    "for i in list_integers:\n",
    "    if i%2==0:\n",
    "        result=i*i-2\n",
    "        print(result, end=' ')\n",
    "        \n",
    "        \n",
    "    "
   ]
  },
  {
   "cell_type": "markdown",
   "metadata": {},
   "source": [
    "Q5.Consider a list of 10 elements. Print all the elements in the list which are greater than 7 when that\n",
    "number is divided 2."
   ]
  },
  {
   "cell_type": "code",
   "execution_count": 16,
   "metadata": {},
   "outputs": [
    {
     "name": "stdout",
     "output_type": "stream",
     "text": [
      "Elements in the list are: [10, 11, 12, 13, 14, 15, 16, 17, 18, 19] \n",
      "\n",
      "Elements greater than 7 when divided by 2 are: \n",
      "\n",
      "15\n",
      "16\n",
      "17\n",
      "18\n",
      "19\n"
     ]
    }
   ],
   "source": [
    "\n",
    "list_integers=list(range(10, 20))\n",
    "print('Elements in the list are:' , list_integers , end=' ')\n",
    "print(\"\\n\")\n",
    "print('Elements greater than 7 when divided by 2 are:', end=' ')\n",
    "print(\"\\n\")\n",
    "for i in list_integers:\n",
    "    if i/2 >7:\n",
    "        print(i)\n"
   ]
  },
  {
   "cell_type": "code",
   "execution_count": null,
   "metadata": {},
   "outputs": [],
   "source": []
  },
  {
   "cell_type": "code",
   "execution_count": null,
   "metadata": {},
   "outputs": [],
   "source": []
  },
  {
   "cell_type": "code",
   "execution_count": null,
   "metadata": {},
   "outputs": [],
   "source": []
  }
 ],
 "metadata": {
  "kernelspec": {
   "display_name": "Python 3",
   "language": "python",
   "name": "python3"
  }
 },
 "nbformat": 4,
 "nbformat_minor": 4
}
