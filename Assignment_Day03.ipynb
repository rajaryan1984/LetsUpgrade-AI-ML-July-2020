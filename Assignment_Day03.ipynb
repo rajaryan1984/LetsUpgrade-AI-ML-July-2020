{
 "cells": [
  {
   "cell_type": "markdown",
   "metadata": {},
   "source": [
    "Assignment for Day 03"
   ]
  },
  {
   "cell_type": "markdown",
   "metadata": {},
   "source": [
    "\n",
    "Q1.  Write a Program to subtract two complex numbers in python."
   ]
  },
  {
   "cell_type": "code",
   "execution_count": null,
   "metadata": {},
   "outputs": [
    {
     "name": "stdout",
     "output_type": "stream",
     "text": [
      "Enter 1st complex number in form of a+bj:\n"
     ]
    }
   ],
   "source": [
    "# Subtracting 2 complex numbers by taking  user input#\n",
    "\n",
    "print('Enter 1st complex number in form of a+bj:')\n",
    "complex_num1=complex(input())\n",
    "print('Enter 2nd complex number in form of a+bj:')\n",
    "complex_num2=complex(input())\n",
    "subtract= complex_num1 - complex_num2\n",
    "print('Subtraction of two complex number is:', subtract)"
   ]
  },
  {
   "cell_type": "code",
   "execution_count": 1,
   "metadata": {},
   "outputs": [
    {
     "name": "stdout",
     "output_type": "stream",
     "text": [
      "Subtraction of two complex number is: (-1+2j)\n"
     ]
    }
   ],
   "source": [
    "# Subtracting 2 complex numbers without user input#\n",
    "complex_num1=3+5j\n",
    "complex_num2=4+3j\n",
    "subtract=complex_num1 - complex_num2\n",
    "print('Subtraction of two complex number is:', subtract)"
   ]
  },
  {
   "cell_type": "markdown",
   "metadata": {},
   "source": [
    "Q2. Find the 4th root of a number in python"
   ]
  },
  {
   "cell_type": "code",
   "execution_count": 2,
   "metadata": {},
   "outputs": [
    {
     "name": "stdout",
     "output_type": "stream",
     "text": [
      "Fourth_Root of a number: 2.0\n"
     ]
    }
   ],
   "source": [
    "# 4th root of a number#\n",
    "\n",
    "a=16\n",
    "Fourth_root=a**(1/4.0)\n",
    "print('Fourth_Root of a number:' , Fourth_root)\n"
   ]
  },
  {
   "cell_type": "code",
   "execution_count": 3,
   "metadata": {},
   "outputs": [
    {
     "name": "stdout",
     "output_type": "stream",
     "text": [
      "Enter the Number\n",
      "0\n",
      "Fourth_Root of a number: 0.0\n"
     ]
    }
   ],
   "source": [
    "# 4th root of a number by taking user input#\n",
    "print('Enter the Number')\n",
    "number=float(input())\n",
    "Fourth_root=number**(1/4.0)\n",
    "print('Fourth_Root of a number:' , Fourth_root)\n"
   ]
  },
  {
   "cell_type": "markdown",
   "metadata": {},
   "source": [
    "Q3. Write a program in python to swap 2 numbers by using a temporary variable"
   ]
  },
  {
   "cell_type": "code",
   "execution_count": null,
   "metadata": {},
   "outputs": [],
   "source": [
    "# Swap 2 numbers with help of a temp variable without user input#\n",
    "\n",
    "x=10\n",
    "y=20\n",
    "temp_variable=x\n",
    "x=y\n",
    "y=temp_variable\n",
    "print('Value of x after swapping is:', x)\n",
    "print('Value of y after swapping is:', y)\n",
    "\n",
    "\n",
    "\n",
    "\n"
   ]
  },
  {
   "cell_type": "markdown",
   "metadata": {},
   "source": [
    "Q4. Write a program to swap two numbers without a temporay variable."
   ]
  },
  {
   "cell_type": "code",
   "execution_count": null,
   "metadata": {},
   "outputs": [],
   "source": [
    "# Swap 2 numbers without help of a temp variable#\n",
    "\n",
    "x= 40\n",
    "y=30\n",
    "x=x+y\n",
    "y=x-y\n",
    "x=x-y\n",
    "\n",
    "print( 'Numbers x and y after swapping are:',x , y)\n",
    "\n",
    "#  simple construct  is there in python for swapping two variables    x,y=y,x  Not using at this point #\n"
   ]
  },
  {
   "cell_type": "markdown",
   "metadata": {},
   "source": [
    "Q5. Write a program to convert farenheit to kelvin and celcius both"
   ]
  },
  {
   "cell_type": "code",
   "execution_count": null,
   "metadata": {},
   "outputs": [],
   "source": [
    "temp_farenht=101\n",
    "temp_celcius=(temp_farenht-32)*5/9\n",
    "temp_kelvin=(temp_farenht-32)*5/9 +273.15\n",
    "print(temp_celcius)\n",
    "print(temp_kelvin)\n"
   ]
  },
  {
   "cell_type": "markdown",
   "metadata": {},
   "source": [
    "Q6. Write a program to demonstrate all data types in python."
   ]
  },
  {
   "cell_type": "code",
   "execution_count": null,
   "metadata": {},
   "outputs": [],
   "source": [
    "# Major Data types in Python.  using type() function#\n",
    "\n",
    "a=6\n",
    "b=7.5\n",
    "s='Rajesh'\n",
    "y=3+4j\n",
    "z=False or True\n",
    "l=[2,4,6,8,9]\n",
    "t=(1, 2, 4, 9, 0)\n",
    "tup_string= (\"raj\", \"ram\", \"mohan\")\n",
    "d={'name':'raj', 'age':34}\n",
    "collection={1,3,5}\n",
    "frozen_coll=({'Raj','hello','python'})\n",
    "\n",
    "print(\"type of frozen_coll: \" , type(frozen_coll))\n",
    "print(\"type of d is:\", type(d))\n",
    "print(\"type of tup_string is:\", type(tup_string))\n",
    "print(\"type of l is:\", type(l))\n",
    "print(\"type of t is:\", type(t))\n",
    "print(\"type of z is:\", type(z))\n",
    "print(\"type of y is:\", type(y))\n",
    "print(\"type of x is:\", type(s))\n",
    "print(\"type of a and b is:\", type(a), type(b))\n",
    "print(\"type of d is:\", type(collection))\n"
   ]
  },
  {
   "cell_type": "markdown",
   "metadata": {},
   "source": [
    "Q7. Write Markdown to explain the steps of file upload process in Github."
   ]
  },
  {
   "cell_type": "markdown",
   "metadata": {},
   "source": [
    "___Steps to create the Github Profile and upload the files___\n",
    "\n",
    "**Step1**: Browse the Github URL: https://github.com/github-login <br>\n",
    "**Step2**: Create Profile by signing up. <br>\n",
    "**Step3**: userid and password will be generated. Using that login to github portal. <br>\n",
    "**Step4**: Once logged in, check the + button to create a new Repository. <br>\n",
    "**Step5**: Click and create a new Repository with name \"___LetsUpgrade AI-ML-July-2020___\" and make that as **public**.(Public            repository will be accessible to others). Provide description in brief(optional). <br>\n",
    "**Step6**: Click on Create Repository button and repo will be created. <br>\n",
    "**Step7**: Once Repo created, click on the upload exsiting files and browse from the local( or drag and drop from local                     directory) to this git repository. <br>\n",
    "**Step8**: Click on commit changes by giving a brief description. <br>\n",
    "**Step9**: Copy the URL of assignment file and verify pasting the link over google chrome browser in cognito mode. It should be            visible and accessible. <br>\n",
    "**Step10**:Copy the URL of the Folder of that day and paste in the Assignment Submission Form (Google Form) at link                        https://bit.ly/aimlassignment (Make sure to choose the correct day for assignment submission)"
   ]
  },
  {
   "cell_type": "code",
   "execution_count": null,
   "metadata": {},
   "outputs": [],
   "source": []
  }
 ],
 "metadata": {
  "kernelspec": {
   "display_name": "Python 3",
   "language": "python",
   "name": "python3"
  },
  "language_info": {
   "codemirror_mode": {
    "name": "ipython",
    "version": 3
   },
   "file_extension": ".py",
   "mimetype": "text/x-python",
   "name": "python",
   "nbconvert_exporter": "python",
   "pygments_lexer": "ipython3",
   "version": "3.7.6"
  }
 },
 "nbformat": 4,
 "nbformat_minor": 4
}
